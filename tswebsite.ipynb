{
 "cells": [
  {
   "cell_type": "code",
   "execution_count": 20,
   "metadata": {},
   "outputs": [],
   "source": [
    "# coding:utf-8\n",
    "import requests\n",
    "import pandas as pd\n",
    "\n",
    "from bs4 import BeautifulSoup as bs\n",
    "from urllib.parse import urlencode"
   ]
  },
  {
   "cell_type": "code",
   "execution_count": 3,
   "metadata": {},
   "outputs": [],
   "source": [
    "headers = {\n",
    "    'user-agent': 'Mozilla/5.0 (Windows NT 10.0; Win64; x64) AppleWebKit/537.36 (KHTML, like Gecko) Chrome/74.0.3729.131 Safari/537.36'}"
   ]
  },
  {
   "cell_type": "code",
   "execution_count": 6,
   "metadata": {},
   "outputs": [],
   "source": [
    "url = 'https://www.taishinbank.com.tw/TSB/personal/'\n",
    "web = requests.get(url, headers=headers)\n",
    "web.encoding = 'utf-8'\n",
    "data = bs(web.text, 'html.parser')"
   ]
  },
  {
   "cell_type": "code",
   "execution_count": 58,
   "metadata": {},
   "outputs": [],
   "source": [
    "func = []\n",
    "url = []\n",
    "url_f = []\n",
    "for tag in data.find_all('li',class_='sub-ul-li-items'):\n",
    "    for t in tag.find_all('a'):\n",
    "        func.append(t.get('title'))\n",
    "        url.append(t.get('href'))\n",
    "        url_f.append('https://www.taishinbank.com.tw'+t.get('href'))\n",
    "df = pd.DataFrame({'func': func, 'url':url, 'url_f':url_f})"
   ]
  },
  {
   "cell_type": "code",
   "execution_count": 59,
   "metadata": {},
   "outputs": [
    {
     "data": {
      "text/html": [
       "<div>\n",
       "<style scoped>\n",
       "    .dataframe tbody tr th:only-of-type {\n",
       "        vertical-align: middle;\n",
       "    }\n",
       "\n",
       "    .dataframe tbody tr th {\n",
       "        vertical-align: top;\n",
       "    }\n",
       "\n",
       "    .dataframe thead th {\n",
       "        text-align: right;\n",
       "    }\n",
       "</style>\n",
       "<table border=\"1\" class=\"dataframe\">\n",
       "  <thead>\n",
       "    <tr style=\"text-align: right;\">\n",
       "      <th></th>\n",
       "      <th>func</th>\n",
       "      <th>url</th>\n",
       "      <th>url_f</th>\n",
       "    </tr>\n",
       "  </thead>\n",
       "  <tbody>\n",
       "    <tr>\n",
       "      <th>0</th>\n",
       "      <td>信用卡總覽</td>\n",
       "      <td>/TSB/personal/credit/intro/overview/</td>\n",
       "      <td>https://www.taishinbank.com.tw/TSB/personal/cr...</td>\n",
       "    </tr>\n",
       "    <tr>\n",
       "      <th>1</th>\n",
       "      <td>信用卡推薦</td>\n",
       "      <td>/TSB/personal/credit/intro/choose/</td>\n",
       "      <td>https://www.taishinbank.com.tw/TSB/personal/cr...</td>\n",
       "    </tr>\n",
       "    <tr>\n",
       "      <th>2</th>\n",
       "      <td>簽帳金融卡</td>\n",
       "      <td>/TSB/personal/credit/intro/payment/</td>\n",
       "      <td>https://www.taishinbank.com.tw/TSB/personal/cr...</td>\n",
       "    </tr>\n",
       "    <tr>\n",
       "      <th>3</th>\n",
       "      <td>信用卡權益</td>\n",
       "      <td>/TSB/personal/credit/intro/rights/</td>\n",
       "      <td>https://www.taishinbank.com.tw/TSB/personal/cr...</td>\n",
       "    </tr>\n",
       "    <tr>\n",
       "      <th>4</th>\n",
       "      <td>刷卡優惠</td>\n",
       "      <td>/TSB/personal/credit/discount/favorable/</td>\n",
       "      <td>https://www.taishinbank.com.tw/TSB/personal/cr...</td>\n",
       "    </tr>\n",
       "  </tbody>\n",
       "</table>\n",
       "</div>"
      ],
      "text/plain": [
       "    func                                       url  \\\n",
       "0  信用卡總覽      /TSB/personal/credit/intro/overview/   \n",
       "1  信用卡推薦        /TSB/personal/credit/intro/choose/   \n",
       "2  簽帳金融卡       /TSB/personal/credit/intro/payment/   \n",
       "3  信用卡權益        /TSB/personal/credit/intro/rights/   \n",
       "4   刷卡優惠  /TSB/personal/credit/discount/favorable/   \n",
       "\n",
       "                                               url_f  \n",
       "0  https://www.taishinbank.com.tw/TSB/personal/cr...  \n",
       "1  https://www.taishinbank.com.tw/TSB/personal/cr...  \n",
       "2  https://www.taishinbank.com.tw/TSB/personal/cr...  \n",
       "3  https://www.taishinbank.com.tw/TSB/personal/cr...  \n",
       "4  https://www.taishinbank.com.tw/TSB/personal/cr...  "
      ]
     },
     "execution_count": 59,
     "metadata": {},
     "output_type": "execute_result"
    }
   ],
   "source": [
    "df.reset_index(drop=True)\n",
    "df.to_csv('tswebsite/mainmenu.csv')\n",
    "df.head()"
   ]
  },
  {
   "cell_type": "code",
   "execution_count": 60,
   "metadata": {},
   "outputs": [],
   "source": [
    "func = []\n",
    "url = []\n",
    "url_f = []\n",
    "for tag in data.find_all('li',class_='ul-li-items'):\n",
    "    for t in tag.find_all('a'):\n",
    "        func.append(t.get('title'))\n",
    "        url.append(str(t.get('href')))\n",
    "        url_f.append('https://www.taishinbank.com.tw'+str(t.get('href')).split('https://www.taishinbank.com.tw')[-1])\n",
    "df_2 = pd.DataFrame({'func': func, 'url':url, 'url_f':url_f})"
   ]
  },
  {
   "cell_type": "code",
   "execution_count": 63,
   "metadata": {},
   "outputs": [
    {
     "data": {
      "text/html": [
       "<div>\n",
       "<style scoped>\n",
       "    .dataframe tbody tr th:only-of-type {\n",
       "        vertical-align: middle;\n",
       "    }\n",
       "\n",
       "    .dataframe tbody tr th {\n",
       "        vertical-align: top;\n",
       "    }\n",
       "\n",
       "    .dataframe thead th {\n",
       "        text-align: right;\n",
       "    }\n",
       "</style>\n",
       "<table border=\"1\" class=\"dataframe\">\n",
       "  <thead>\n",
       "    <tr style=\"text-align: right;\">\n",
       "      <th></th>\n",
       "      <th>func</th>\n",
       "      <th>url</th>\n",
       "      <th>url_f</th>\n",
       "    </tr>\n",
       "  </thead>\n",
       "  <tbody>\n",
       "    <tr>\n",
       "      <th>0</th>\n",
       "      <td>線上辦卡</td>\n",
       "      <td>/TSB/personal/credit/online-apply/online-card/...</td>\n",
       "      <td>https://www.taishinbank.com.tw/TSB/personal/cr...</td>\n",
       "    </tr>\n",
       "    <tr>\n",
       "      <th>1</th>\n",
       "      <td>MyData線上辦卡</td>\n",
       "      <td>https://www.taishinbank.com.tw/eService/Credit...</td>\n",
       "      <td>https://www.taishinbank.com.tw/eService/Credit...</td>\n",
       "    </tr>\n",
       "    <tr>\n",
       "      <th>2</th>\n",
       "      <td>繳信用卡費</td>\n",
       "      <td>/TSB/personal/credit/pay-credit-card-bill/inde...</td>\n",
       "      <td>https://www.taishinbank.com.tw/TSB/personal/cr...</td>\n",
       "    </tr>\n",
       "    <tr>\n",
       "      <th>3</th>\n",
       "      <td>調升信用卡額度</td>\n",
       "      <td>/TSB/personal/credit/loan/increase/</td>\n",
       "      <td>https://www.taishinbank.com.tw/TSB/personal/cr...</td>\n",
       "    </tr>\n",
       "    <tr>\n",
       "      <th>4</th>\n",
       "      <td>信用卡總覽</td>\n",
       "      <td>/TSB/personal/credit/intro/overview/</td>\n",
       "      <td>https://www.taishinbank.com.tw/TSB/personal/cr...</td>\n",
       "    </tr>\n",
       "  </tbody>\n",
       "</table>\n",
       "</div>"
      ],
      "text/plain": [
       "         func                                                url  \\\n",
       "0        線上辦卡  /TSB/personal/credit/online-apply/online-card/...   \n",
       "1  MyData線上辦卡  https://www.taishinbank.com.tw/eService/Credit...   \n",
       "2       繳信用卡費  /TSB/personal/credit/pay-credit-card-bill/inde...   \n",
       "3     調升信用卡額度                /TSB/personal/credit/loan/increase/   \n",
       "4       信用卡總覽               /TSB/personal/credit/intro/overview/   \n",
       "\n",
       "                                               url_f  \n",
       "0  https://www.taishinbank.com.tw/TSB/personal/cr...  \n",
       "1  https://www.taishinbank.com.tw/eService/Credit...  \n",
       "2  https://www.taishinbank.com.tw/TSB/personal/cr...  \n",
       "3  https://www.taishinbank.com.tw/TSB/personal/cr...  \n",
       "4  https://www.taishinbank.com.tw/TSB/personal/cr...  "
      ]
     },
     "execution_count": 63,
     "metadata": {},
     "output_type": "execute_result"
    }
   ],
   "source": [
    "df_2.to_csv('tswebsite/mainmenu_big.csv')\n",
    "df_2.head()"
   ]
  },
  {
   "cell_type": "code",
   "execution_count": null,
   "metadata": {},
   "outputs": [],
   "source": []
  }
 ],
 "metadata": {
  "kernelspec": {
   "display_name": "Python 3",
   "language": "python",
   "name": "python3"
  },
  "language_info": {
   "codemirror_mode": {
    "name": "ipython",
    "version": 3
   },
   "file_extension": ".py",
   "mimetype": "text/x-python",
   "name": "python",
   "nbconvert_exporter": "python",
   "pygments_lexer": "ipython3",
   "version": "3.6.8"
  }
 },
 "nbformat": 4,
 "nbformat_minor": 2
}
