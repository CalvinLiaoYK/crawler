{
 "cells": [
  {
   "cell_type": "markdown",
   "metadata": {},
   "source": [
    "# 待解問題\n",
    "- 時間\n",
    "- 內文格式不同的狀況"
   ]
  },
  {
   "cell_type": "code",
   "execution_count": 116,
   "metadata": {},
   "outputs": [],
   "source": [
    "import re\n",
    "import json\n",
    "import pandas as pd\n",
    "import time\n",
    "from collections import defaultdict\n",
    "from selenium import webdriver\n",
    "from selenium.webdriver.support.ui import Select\n",
    "from selenium.webdriver.support.ui import WebDriverWait\n",
    "from selenium.webdriver.support import expected_conditions as EC\n",
    "from bs4 import BeautifulSoup"
   ]
  },
  {
   "cell_type": "code",
   "execution_count": 11,
   "metadata": {},
   "outputs": [],
   "source": [
    "# 登入\n",
    "# username = browser.find_element_by_name('email')\n",
    "# password = browser.find_element_by_name('pass')\n",
    "# username.send_keys('kobe821125@gmail.com')\n",
    "# password.send_keys('calvin19931125')\n",
    "\n",
    "# log_in_button = browser.find_element_by_name('login')\n",
    "# log_in_button.click()"
   ]
  },
  {
   "cell_type": "code",
   "execution_count": 157,
   "metadata": {},
   "outputs": [],
   "source": [
    "browser = webdriver.Chrome()\n",
    "browser.get('https://www.facebook.com/groups/1189431674567215/')\n",
    "html = browser.page_source"
   ]
  },
  {
   "cell_type": "code",
   "execution_count": 158,
   "metadata": {},
   "outputs": [],
   "source": [
    "# 滾動卷軸\n",
    "browser.execute_script(\"window.scrollTo(0, document.body.scrollHeight);\")"
   ]
  },
  {
   "cell_type": "code",
   "execution_count": 175,
   "metadata": {},
   "outputs": [
    {
     "name": "stdout",
     "output_type": "stream",
     "text": [
      "2020年12月19日\n",
      "2020年12月19日\n",
      "7 小時\n",
      "7 小時\n"
     ]
    }
   ],
   "source": [
    "# 時間\n",
    "date = browser.find_elements_by_css_selector(\".b6zbclly.myohyog2.l9j0dhe7.aenfhxwr.l94mrbxd.ihxqhq3m.nc684nl6.t5a262vz.sdhka5h4\")\n",
    "timestamp = []\n",
    "for i in date:\n",
    "    if i.text is not '':\n",
    "        print(i.text)\n",
    "        timestamp.append(i.text)"
   ]
  },
  {
   "cell_type": "code",
   "execution_count": 176,
   "metadata": {},
   "outputs": [
    {
     "data": {
      "text/plain": [
       "'7 小時'"
      ]
     },
     "execution_count": 176,
     "metadata": {},
     "output_type": "execute_result"
    }
   ],
   "source": [
    "timestamp[-1]"
   ]
  },
  {
   "cell_type": "code",
   "execution_count": 181,
   "metadata": {},
   "outputs": [
    {
     "name": "stdout",
     "output_type": "stream",
     "text": [
      "7 小時\n"
     ]
    }
   ],
   "source": [
    "if re.search(r'小時', timestamp[-1]):\n",
    "    print(timestamp[-1])"
   ]
  },
  {
   "cell_type": "code",
   "execution_count": 161,
   "metadata": {},
   "outputs": [],
   "source": [
    "# 點擊查看更多\n",
    "read_button = browser.find_elements_by_css_selector(\"div[class='oajrlxb2 g5ia77u1 qu0x051f esr5mh6w e9989ue4 r7d6kgcz rq0escxv nhd2j8a9 nc684nl6 p7hjln8o kvgmc6g5 cxmmr5t8 oygrvhab hcukyx3x jb3vyjys rz4wbd8a qt6c0cv9 a8nywdso i1ao9s8h esuyzwwr f1sip0of lzcic4wl oo9gr5id gpro0wi8 lrazzd5p'][role='button']\")\n",
    "for read in read_button:\n",
    "    time.sleep(1)\n",
    "    read.click()"
   ]
  },
  {
   "cell_type": "code",
   "execution_count": 163,
   "metadata": {},
   "outputs": [],
   "source": [
    "title = browser.find_elements_by_css_selector(\"div[class='kvgmc6g5 cxmmr5t8 oygrvhab hcukyx3x c1et5uql ii04i59q']\")\n",
    "value = browser.find_elements_by_css_selector(\".o9v6fnle.cxmmr5t8.oygrvhab.hcukyx3x.c1et5uql.ii04i59q\")"
   ]
  },
  {
   "cell_type": "code",
   "execution_count": 164,
   "metadata": {},
   "outputs": [],
   "source": [
    "# test\n",
    "for i, t in enumerate(title):\n",
    "    if t.text is not '':\n",
    "        content = t.text\n",
    "        code = re.search(r'\\d{4}', content)#.group()\n",
    "        \n",
    "        if code:\n",
    "            code = code.group()\n",
    "            name = re.split(r'\\(', content)[0].strip()\n",
    "            print(name, code)\n",
    "            \n",
    "        nums = i"
   ]
  },
  {
   "cell_type": "code",
   "execution_count": 165,
   "metadata": {},
   "outputs": [
    {
     "data": {
      "text/plain": [
       "3"
      ]
     },
     "execution_count": 165,
     "metadata": {},
     "output_type": "execute_result"
    }
   ],
   "source": [
    "nums"
   ]
  },
  {
   "cell_type": "code",
   "execution_count": 166,
   "metadata": {},
   "outputs": [
    {
     "data": {
      "text/plain": [
       "defaultdict(list, {})"
      ]
     },
     "execution_count": 166,
     "metadata": {},
     "output_type": "execute_result"
    }
   ],
   "source": [
    "# 公司代號\n",
    "def company_name(title):\n",
    "    output = defaultdict(list)\n",
    "    for t in title:\n",
    "        if t.text is not '':\n",
    "            content = t.text\n",
    "            code = re.search(r'\\d{4}', content)\n",
    "            \n",
    "            if code:\n",
    "                code = code.group()\n",
    "                name = re.split(r'\\(', content)[0].strip()          \n",
    "                output[name].append(code)\n",
    "                \n",
    "    return output\n",
    "\n",
    "stock_info = company_name(title)\n",
    "stock_info"
   ]
  },
  {
   "cell_type": "code",
   "execution_count": 145,
   "metadata": {},
   "outputs": [],
   "source": [
    "def company_analysis_idx(value):\n",
    "    company_index = defaultdict(list)\n",
    "    for index ,v in enumerate(value):\n",
    "        if v.text is not '':\n",
    "            info = v.text\n",
    "            company = info.split('的')[0].strip()     \n",
    "            if company in stock_info.keys():\n",
    "                company_index[company].append(index)\n",
    "            #print(index, company)\n",
    "    return company_index\n",
    "\n",
    "stock_idx = company_analysis_idx(value)"
   ]
  },
  {
   "cell_type": "code",
   "execution_count": 146,
   "metadata": {},
   "outputs": [
    {
     "data": {
      "text/plain": [
       "defaultdict(list,\n",
       "            {'國泰金': [39],\n",
       "             '富邦金': [42],\n",
       "             '統一超': [45],\n",
       "             '卓越': [51],\n",
       "             '東元': [53],\n",
       "             '由田': [54],\n",
       "             '富邦媒': [55],\n",
       "             '八貫': [57],\n",
       "             '日月光': [58],\n",
       "             '中保科': [59]})"
      ]
     },
     "execution_count": 146,
     "metadata": {},
     "output_type": "execute_result"
    }
   ],
   "source": [
    "stock_idx"
   ]
  },
  {
   "cell_type": "code",
   "execution_count": 147,
   "metadata": {},
   "outputs": [],
   "source": [
    "def company_analysis_content(stock_idx, value):\n",
    "    \n",
    "    for stock in stock_idx.keys():\n",
    "        indexs = value[stock_idx[stock][0]].text.split('\\n')\n",
    "        for index in indexs:\n",
    "            index = index.split('的')[1]\n",
    "            stock_info[stock].append(index)\n",
    "            \n",
    "        stock_info[stock].append(value[stock_idx[stock][0]+1].text)"
   ]
  },
  {
   "cell_type": "code",
   "execution_count": 148,
   "metadata": {},
   "outputs": [
    {
     "ename": "IndexError",
     "evalue": "list index out of range",
     "output_type": "error",
     "traceback": [
      "\u001b[1;31m---------------------------------------------------------------------------\u001b[0m",
      "\u001b[1;31mIndexError\u001b[0m                                Traceback (most recent call last)",
      "\u001b[1;32m<ipython-input-148-990734d59168>\u001b[0m in \u001b[0;36m<module>\u001b[1;34m\u001b[0m\n\u001b[1;32m----> 1\u001b[1;33m \u001b[0mcompany_analysis_content\u001b[0m\u001b[1;33m(\u001b[0m\u001b[0mstock_idx\u001b[0m\u001b[1;33m,\u001b[0m \u001b[0mvalue\u001b[0m\u001b[1;33m)\u001b[0m\u001b[1;33m\u001b[0m\u001b[1;33m\u001b[0m\u001b[0m\n\u001b[0m\u001b[0;32m      2\u001b[0m \u001b[0mstock_info\u001b[0m\u001b[1;33m\u001b[0m\u001b[1;33m\u001b[0m\u001b[0m\n",
      "\u001b[1;32m<ipython-input-147-ae93212fee2e>\u001b[0m in \u001b[0;36mcompany_analysis_content\u001b[1;34m(stock_idx, value)\u001b[0m\n\u001b[0;32m      7\u001b[0m             \u001b[0mstock_info\u001b[0m\u001b[1;33m[\u001b[0m\u001b[0mstock\u001b[0m\u001b[1;33m]\u001b[0m\u001b[1;33m.\u001b[0m\u001b[0mappend\u001b[0m\u001b[1;33m(\u001b[0m\u001b[0mindex\u001b[0m\u001b[1;33m)\u001b[0m\u001b[1;33m\u001b[0m\u001b[1;33m\u001b[0m\u001b[0m\n\u001b[0;32m      8\u001b[0m \u001b[1;33m\u001b[0m\u001b[0m\n\u001b[1;32m----> 9\u001b[1;33m         \u001b[0mstock_info\u001b[0m\u001b[1;33m[\u001b[0m\u001b[0mstock\u001b[0m\u001b[1;33m]\u001b[0m\u001b[1;33m.\u001b[0m\u001b[0mappend\u001b[0m\u001b[1;33m(\u001b[0m\u001b[0mvalue\u001b[0m\u001b[1;33m[\u001b[0m\u001b[0mstock_idx\u001b[0m\u001b[1;33m[\u001b[0m\u001b[0mstock\u001b[0m\u001b[1;33m]\u001b[0m\u001b[1;33m[\u001b[0m\u001b[1;36m0\u001b[0m\u001b[1;33m]\u001b[0m\u001b[1;33m+\u001b[0m\u001b[1;36m1\u001b[0m\u001b[1;33m]\u001b[0m\u001b[1;33m.\u001b[0m\u001b[0mtext\u001b[0m\u001b[1;33m)\u001b[0m\u001b[1;33m\u001b[0m\u001b[1;33m\u001b[0m\u001b[0m\n\u001b[0m",
      "\u001b[1;31mIndexError\u001b[0m: list index out of range"
     ]
    }
   ],
   "source": [
    "company_analysis_content(stock_idx, value)\n",
    "stock_info"
   ]
  },
  {
   "cell_type": "code",
   "execution_count": null,
   "metadata": {},
   "outputs": [],
   "source": [
    "o9v6fnle cxmmr5t8 oygrvhab hcukyx3x c1et5uql ii04i59q\n",
    "o9v6fnle cxmmr5t8 oygrvhab hcukyx3x c1et5uql ii04i59q\n",
    "kvgmc6g5 cxmmr5t8 oygrvhab hcukyx3x c1et5uql ii04i59q\n",
    "kvgmc6g5 cxmmr5t8 oygrvhab hcukyx3x c1et5uql ii04i59q\n",
    "kvgmc6g5 cxmmr5t8 oygrvhab hcukyx3x c1et5uql ii04i59q\n",
    "o9v6fnle cxmmr5t8 oygrvhab hcukyx3x c1et5uql ii04i59q\n",
    "b6zbclly myohyog2 l9j0dhe7 aenfhxwr l94mrbxd ihxqhq3m nc684nl6 t5a262vz sdhka5h4"
   ]
  }
 ],
 "metadata": {
  "kernelspec": {
   "display_name": "Python 3",
   "language": "python",
   "name": "python3"
  },
  "language_info": {
   "codemirror_mode": {
    "name": "ipython",
    "version": 3
   },
   "file_extension": ".py",
   "mimetype": "text/x-python",
   "name": "python",
   "nbconvert_exporter": "python",
   "pygments_lexer": "ipython3",
   "version": "3.6.7"
  }
 },
 "nbformat": 4,
 "nbformat_minor": 2
}
