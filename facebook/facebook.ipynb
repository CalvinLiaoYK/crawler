{
 "cells": [
  {
   "cell_type": "code",
   "execution_count": 8,
   "metadata": {},
   "outputs": [],
   "source": [
    "import json\n",
    "import pandas as pd\n",
    "from collections import defaultdict\n",
    "from selenium import webdriver\n",
    "from selenium.webdriver.support.ui import Select\n",
    "from bs4 import BeautifulSoup"
   ]
  },
  {
   "cell_type": "code",
   "execution_count": 9,
   "metadata": {},
   "outputs": [],
   "source": [
    "browser = webdriver.Chrome()\n",
    "browser.get('https://www.facebook.com/')"
   ]
  },
  {
   "cell_type": "code",
   "execution_count": 10,
   "metadata": {},
   "outputs": [],
   "source": [
    "username = browser.find_element_by_name('email')\n",
    "password = browser.find_element_by_name('pass')\n",
    "username.send_keys('kobe821125@gmail.com')\n",
    "password.send_keys('calvin19931125')"
   ]
  },
  {
   "cell_type": "code",
   "execution_count": 11,
   "metadata": {},
   "outputs": [],
   "source": [
    "log_in_button = browser.find_element_by_name('login')\n",
    "log_in_button.click()"
   ]
  },
  {
   "cell_type": "code",
   "execution_count": 12,
   "metadata": {},
   "outputs": [],
   "source": [
    "browser.get('https://www.facebook.com/groups/1189431674567215/')\n",
    "html = browser.page_source"
   ]
  },
  {
   "cell_type": "code",
   "execution_count": 29,
   "metadata": {},
   "outputs": [],
   "source": [
    "txt = browser.find_elements_by_css_selector(\".kvgmc6g5.cxmmr5t8.oygrvhab.hcukyx3x.c1et5uql.ii04i59q\")"
   ]
  },
  {
   "cell_type": "code",
   "execution_count": 31,
   "metadata": {},
   "outputs": [
    {
     "name": "stdout",
     "output_type": "stream",
     "text": [
      "中華精測   （  6510  ）   的真實價值    :\n",
      "東洋     (  4105  )    的真實價值    :\n",
      "健和興    （  3003  ）   的真實價值    :\n",
      "晶技    （  3042  ）   的真實價值    :\n",
      "聯陽     (  3014  )    的真實價值    :\n",
      "宏致     (  3605  )    的真實價值    :\n",
      "中美晶     (  5483  )    的真實價值    :\n",
      "定穎     (  6251  )    的真實價值    :\n",
      "東明-KY    (  5538  )    的真實價值    :\n",
      "揚博    (  2493  )    的真實價值    :\n",
      "中華車     (  2204  )     的真實價值    :\n",
      "上奇    (  6123  )    的真實價值    :\n",
      "重要說明評論 , 歡迎參閱 !\n",
      "元太     (  8069  )    的真實價值    :\n",
      "和勤    (  1586  )    的真實價值    :\n"
     ]
    }
   ],
   "source": [
    "for i in txt:\n",
    "    print(i.text)"
   ]
  },
  {
   "cell_type": "code",
   "execution_count": 33,
   "metadata": {},
   "outputs": [
    {
     "name": "stdout",
     "output_type": "stream",
     "text": [
      "精測     的 Ks = 0.046\n",
      "精測     的 P / E = 1 / 0.046 = 21.74\n",
      "精測     的 FRV = EPS x P/E = 34.07 x 21.74 = 740.68…… 查看更多\n",
      "東洋     的 Ks = 0.047\n",
      "東洋     的 P / E = 1 / 0.047 = 21.28\n",
      "東洋     的 FRV = EPS x P/E = 4.01 x 21.28 = 85.33…… 查看更多\n",
      "健和興　 的 Ks = 0.048\n",
      "健和興     的 P / E = 1 / 0.048 = 20.83\n",
      "健和興     的 FRV = EPS x P/E = 3.93 x 20.83 = 81.86…… 查看更多\n",
      "晶技　 的 Ks = 0.049\n",
      "晶技     的 P / E = 1 / 0.049 = 20.41\n",
      "晶技　 的 FRV = EPS x P/E = 7.05 x 20.41 = 143.89…… 查看更多\n",
      "聯陽     的 Ks = 0.046\n",
      "聯陽     的 P / E = 1 / 0.046 = 21.74\n",
      "聯陽     的 FRV = EPS x P/E = 7.98 x 21.74 = 173.49…… 查看更多\n",
      "宏致      的 Ks = 0.063\n",
      "宏致      的 P / E = 1 / 0.063 = 15.87\n",
      "宏致      的 FRV = EPS x P/E = 4.20 x 15.87 = 66.65…… 查看更多\n",
      "中美晶      的 Ks = 0.064\n",
      "中美晶      的 P / E = 1 / 0.064 = 15.63\n",
      "中美晶      的 FRV = EPS x P/E = 13.09 x 15.63 = 204.60…… 查看更多\n",
      "定穎      的 Ks = 0.067\n",
      "定穎      的 P / E = 1 / 0.067 = 14.93\n",
      "定穎      的 FRV = EPS x P/E = 3.17 x 14.93 = 47.33…… 查看更多\n",
      "東明-KY     的 Ks  =  0.055\n",
      "東明-KY     的 P / E = 1 / 0.055 = 18.18\n",
      "東明-KY　 的 FRV = EPS x P/E = 3.42 x 18.18 = 62.18…… 查看更多\n",
      "揚博     的 Ks  =  0.057\n",
      "揚博     的 P / E = 1 / 0.057 = 17.54\n",
      "揚博　 的 FRV = EPS x P/E = 3.19 x 17.54 = 55.95…… 查看更多\n",
      "中華車       的 Ks = 0.074\n",
      "中華車       的 P / E = 1 / 0.074 = 13.51\n",
      "中華車       的 FRV = EPS x P/E = 6.20 x 13.51 = 83.76…… 查看更多\n",
      "上奇　 的 Ks = 0.059\n",
      "上奇     的 P / E = 1 / 0.059 = 16.95\n",
      "上奇　 的 FRV = EPS x P/E = 4.76 x 16.95 = 80.68…… 查看更多\n",
      "裕隆     (  2201  )    的真實價值    :\n",
      "裕隆     的 Ks = 0.087…… 查看更多\n",
      "元太　 的 Ks = 0.049\n",
      "元太     的 P / E = 1 / 0.049 = 20.41\n",
      "元太　 的 FRV = EPS x P/E = 3.67 x 20.41 = 74.90…… 查看更多\n",
      "和勤      的 Ks = 0.063\n",
      "和勤      的 P / E = 1 / 0.063 = 15.87\n",
      "和勤      的 FRV = EPS x P/E = 2.58 x 15.87 = 40.94…… 查看更多\n"
     ]
    }
   ],
   "source": [
    "txt = browser.find_elements_by_css_selector(\".o9v6fnle.cxmmr5t8.oygrvhab.hcukyx3x.c1et5uql.ii04i59q\")\n",
    "for i in txt:\n",
    "    print(i.text)"
   ]
  },
  {
   "cell_type": "code",
   "execution_count": null,
   "metadata": {},
   "outputs": [],
   "source": [
    "o9v6fnle cxmmr5t8 oygrvhab hcukyx3x c1et5uql ii04i59q\n",
    "kvgmc6g5 cxmmr5t8 oygrvhab hcukyx3x c1et5uql ii04i59q\n",
    "kvgmc6g5 cxmmr5t8 oygrvhab hcukyx3x c1et5uql ii04i59q"
   ]
  }
 ],
 "metadata": {
  "kernelspec": {
   "display_name": "Python 3",
   "language": "python",
   "name": "python3"
  },
  "language_info": {
   "codemirror_mode": {
    "name": "ipython",
    "version": 3
   },
   "file_extension": ".py",
   "mimetype": "text/x-python",
   "name": "python",
   "nbconvert_exporter": "python",
   "pygments_lexer": "ipython3",
   "version": "3.6.7"
  }
 },
 "nbformat": 4,
 "nbformat_minor": 2
}
