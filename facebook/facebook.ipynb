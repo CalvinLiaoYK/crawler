{
 "cells": [
  {
   "cell_type": "markdown",
   "metadata": {},
   "source": [
    "# 待解問題\n",
    "- 時間\n",
    "- 內文格式不同的狀況"
   ]
  },
  {
   "cell_type": "code",
   "execution_count": 36,
   "metadata": {},
   "outputs": [],
   "source": [
    "import re\n",
    "import json\n",
    "import pandas as pd\n",
    "from collections import defaultdict\n",
    "from selenium import webdriver\n",
    "from selenium.webdriver.support.ui import Select\n",
    "from bs4 import BeautifulSoup"
   ]
  },
  {
   "cell_type": "code",
   "execution_count": 11,
   "metadata": {},
   "outputs": [],
   "source": [
    "# 登入\n",
    "# username = browser.find_element_by_name('email')\n",
    "# password = browser.find_element_by_name('pass')\n",
    "# username.send_keys('kobe821125@gmail.com')\n",
    "# password.send_keys('calvin19931125')\n",
    "\n",
    "# log_in_button = browser.find_element_by_name('login')\n",
    "# log_in_button.click()"
   ]
  },
  {
   "cell_type": "code",
   "execution_count": 174,
   "metadata": {},
   "outputs": [],
   "source": [
    "browser = webdriver.Chrome()\n",
    "browser.get('https://www.facebook.com/groups/1189431674567215/')\n",
    "html = browser.page_source"
   ]
  },
  {
   "cell_type": "code",
   "execution_count": 175,
   "metadata": {},
   "outputs": [],
   "source": [
    "# 滾動卷軸\n",
    "browser.execute_script(\"window.scrollTo(0, document.body.scrollHeight);\")"
   ]
  },
  {
   "cell_type": "code",
   "execution_count": 176,
   "metadata": {},
   "outputs": [],
   "source": [
    "# 點擊查看更多\n",
    "read_button = browser.find_elements_by_css_selector(\"div[class='oajrlxb2 g5ia77u1 qu0x051f esr5mh6w e9989ue4 r7d6kgcz rq0escxv nhd2j8a9 nc684nl6 p7hjln8o kvgmc6g5 cxmmr5t8 oygrvhab hcukyx3x jb3vyjys rz4wbd8a qt6c0cv9 a8nywdso i1ao9s8h esuyzwwr f1sip0of lzcic4wl oo9gr5id gpro0wi8 lrazzd5p'][role='button']\")\n",
    "for read in read_button:\n",
    "    read.click()"
   ]
  },
  {
   "cell_type": "code",
   "execution_count": 191,
   "metadata": {},
   "outputs": [],
   "source": [
    "title = browser.find_elements_by_css_selector(\"div[class='kvgmc6g5 cxmmr5t8 oygrvhab hcukyx3x c1et5uql ii04i59q']\")\n",
    "value = browser.find_elements_by_css_selector(\".o9v6fnle.cxmmr5t8.oygrvhab.hcukyx3x.c1et5uql.ii04i59q\")"
   ]
  },
  {
   "cell_type": "code",
   "execution_count": 199,
   "metadata": {},
   "outputs": [
    {
     "name": "stdout",
     "output_type": "stream",
     "text": [
      "聚隆 1466\n",
      "廣華 - KY 1338\n",
      "長興 1717\n",
      "光群雷 2461\n",
      "全新 2455\n",
      "南亞科 2408\n",
      "台玻 1802\n",
      "同欣電 6271\n",
      "臺慶科 3357\n"
     ]
    }
   ],
   "source": [
    "# test\n",
    "for i, t in enumerate(title):\n",
    "    if t.text is not '':\n",
    "        content = t.text\n",
    "        code = re.search(r'\\d{4}', content)#.group()\n",
    "        \n",
    "        if code:\n",
    "            code = code.group()\n",
    "            name = re.split(r'\\(', content)[0].strip()\n",
    "            print(name, code)"
   ]
  },
  {
   "cell_type": "code",
   "execution_count": 216,
   "metadata": {},
   "outputs": [
    {
     "data": {
      "text/plain": [
       "defaultdict(list,\n",
       "            {'聚隆': ['1466'],\n",
       "             '廣華 - KY': ['1338'],\n",
       "             '長興': ['1717'],\n",
       "             '光群雷': ['2461'],\n",
       "             '全新': ['2455'],\n",
       "             '南亞科': ['2408'],\n",
       "             '台玻': ['1802'],\n",
       "             '同欣電': ['6271'],\n",
       "             '臺慶科': ['3357']})"
      ]
     },
     "execution_count": 216,
     "metadata": {},
     "output_type": "execute_result"
    }
   ],
   "source": [
    "# 公司代號\n",
    "def company_name(title):\n",
    "    output = defaultdict(list)\n",
    "    for t in title:\n",
    "        if t.text is not '':\n",
    "            content = t.text\n",
    "            code = re.search(r'\\d{4}', content)\n",
    "            \n",
    "            if code:\n",
    "                code = code.group()\n",
    "                name = re.split(r'\\(', content)[0].strip()          \n",
    "                output[name].append(code)\n",
    "                \n",
    "    return output\n",
    "\n",
    "stock_info = company_name(title)\n",
    "stock_info"
   ]
  },
  {
   "cell_type": "code",
   "execution_count": 217,
   "metadata": {},
   "outputs": [],
   "source": [
    "def company_analysis_idx(value):\n",
    "    company_index = defaultdict(list)\n",
    "    for index ,v in enumerate(value):\n",
    "        if v.text is not '':\n",
    "            info = v.text\n",
    "            company = info.split('的')[0].strip()     \n",
    "            if company in stock_info.keys():\n",
    "                company_index[company].append(index)\n",
    "            #print(index, company)\n",
    "    return company_index\n",
    "\n",
    "stock_idx = company_analysis_idx(value)"
   ]
  },
  {
   "cell_type": "code",
   "execution_count": 218,
   "metadata": {},
   "outputs": [
    {
     "data": {
      "text/plain": [
       "defaultdict(list,\n",
       "            {'聚隆': [3],\n",
       "             '廣華 - KY': [6],\n",
       "             '長興': [9],\n",
       "             '光群雷': [12],\n",
       "             '全新': [15],\n",
       "             '南亞科': [21],\n",
       "             '台玻': [28],\n",
       "             '同欣電': [34],\n",
       "             '臺慶科': [37]})"
      ]
     },
     "execution_count": 218,
     "metadata": {},
     "output_type": "execute_result"
    }
   ],
   "source": [
    "stock_idx"
   ]
  },
  {
   "cell_type": "code",
   "execution_count": 219,
   "metadata": {},
   "outputs": [],
   "source": [
    "def company_analysis_content(stock_idx, value):\n",
    "    \n",
    "    for stock in stock_idx.keys():\n",
    "        indexs = value[stock_idx[stock][0]].text.split('\\n')\n",
    "        for index in indexs:\n",
    "            index = index.split('的')[1]\n",
    "            stock_info[stock].append(index)\n",
    "            \n",
    "        stock_info[stock].append(value[stock_idx[stock][0]+1].text)"
   ]
  },
  {
   "cell_type": "code",
   "execution_count": 220,
   "metadata": {},
   "outputs": [
    {
     "data": {
      "text/plain": [
       "defaultdict(list,\n",
       "            {'聚隆': ['1466',\n",
       "              ' Ks = 0.077',\n",
       "              ' P / E = 1 / 0.077 = 12.99',\n",
       "              ' FRV = EPS x P/E = 1.74 x 12.99 = 22.60',\n",
       "              ' 泡沫程度 = P / FRV = 21.40 / 22.60 = 0.947',\n",
       "              '( 05/28 )   市場給的價格明顯低於真實價值 .'],\n",
       "             '廣華 - KY': ['1338',\n",
       "              ' Ks = 0.050',\n",
       "              ' P / E = 1 / 0.050 = 20.00',\n",
       "              ' FRV = EPS x P/E = 5.59 x 20.00 = 111.80',\n",
       "              ' 泡沫程度 = P / FRV = 62.80 / 111.80 = 0.562',\n",
       "              '( 05/28 )   市場給的價格超級顯注低於真實價值 .'],\n",
       "             '長興': ['1717',\n",
       "              ' Ks = 0.057',\n",
       "              ' P / E = 1 / 0.057 = 17.54',\n",
       "              ' FRV = EPS x P/E = 3.35 x 17.54 = 58.76',\n",
       "              ' 泡沫程度 = P / FRV = 40.20 / 58.76 = 0.684',\n",
       "              '( 05/28 )   市場給的價格非常顯注低於真實價值 .'],\n",
       "             '光群雷': ['2461',\n",
       "              ' Ks = 0.060',\n",
       "              ' P / E = 1 / 0.060 = 16.67',\n",
       "              ' FRV = EPS x P/E = 2.85 x 16.67 = 47.51',\n",
       "              ' 泡沫程度 = P / FRV = 21.45 / 47.51 = 0.451',\n",
       "              '( 05/28 )   市場給的價格超級顯注低於真實價值 .'],\n",
       "             '全新': ['2455',\n",
       "              ' Ks = 0.047',\n",
       "              ' P / E = 1 / 0.047 = 21.28',\n",
       "              ' FRV = EPS x P/E = 4.90 x 21.28 = 104.27',\n",
       "              ' 泡沫程度 = P / FRV = 112.00 / 104.27 = 1.074',\n",
       "              '( 05/28 )   市場給的價格明顯高於真實價值 .'],\n",
       "             '南亞科': ['2408',\n",
       "              ' Ks = 0.048',\n",
       "              ' P / E = 1 / 0.048 = 20.83',\n",
       "              ' FRV = EPS x P/E = 4.98 x 20.83 = 103.73',\n",
       "              ' 泡沫程度 = P / FRV = 80.60 / 103.73 = 0.777',\n",
       "              '( 05/28 )   市場給的價格非常顯注低於真實價值 .'],\n",
       "             '台玻': ['1802',\n",
       "              ' Ks = 0.055',\n",
       "              ' P / E = 1 / 0.055 = 18.18',\n",
       "              ' FRV = EPS x P/E = 2.41 x 18.18 = 43.81',\n",
       "              ' 泡沫程度 = P / FRV = 32.45 / 43.81 = 0.741',\n",
       "              '( 05/28 )   市場給的價格非常顯注低於真實價值 .'],\n",
       "             '同欣電': ['6271',\n",
       "              ' Ks = 0.046',\n",
       "              ' P / E = 1 / 0.046 = 21.74',\n",
       "              ' FRV = EPS x P/E = 10.96 x 21.74 = 238.27',\n",
       "              ' 泡沫程度 = P / FRV = 183.00 / 238.27 = 0.768',\n",
       "              '( 05/28 )   市場給的價格非常顯注低於真實價值 .'],\n",
       "             '臺慶科': ['3357',\n",
       "              ' Ks = 0.047',\n",
       "              ' P / E = 1 / 0.047 = 21.28',\n",
       "              ' FRV = EPS x P/E = 9.83 x 21.28 = 209.18',\n",
       "              ' 泡沫程度 = P / FRV = 138.00 / 209.18 = 0.660',\n",
       "              '( 05/28 )   市場給的價格非常顯注低於真實價值 .']})"
      ]
     },
     "execution_count": 220,
     "metadata": {},
     "output_type": "execute_result"
    }
   ],
   "source": [
    "company_analysis_content(stock_idx, value)\n",
    "stock_info"
   ]
  },
  {
   "cell_type": "code",
   "execution_count": 63,
   "metadata": {},
   "outputs": [
    {
     "name": "stdout",
     "output_type": "stream",
     "text": [
      "2020年12月19日\n",
      "2020年12月19日\n",
      "剛剛\n",
      "剛剛\n",
      "13 分鐘\n",
      "13 分鐘\n",
      "4 小時\n",
      "4 小時\n"
     ]
    }
   ],
   "source": [
    "# 時間\n",
    "time = browser.find_elements_by_css_selector(\".b6zbclly.myohyog2.l9j0dhe7.aenfhxwr.l94mrbxd.ihxqhq3m.nc684nl6.t5a262vz.sdhka5h4\")\n",
    "for i in time:\n",
    "    if i.text is not '':\n",
    "        print(i.text)"
   ]
  },
  {
   "cell_type": "code",
   "execution_count": null,
   "metadata": {},
   "outputs": [],
   "source": [
    "o9v6fnle cxmmr5t8 oygrvhab hcukyx3x c1et5uql ii04i59q\n",
    "o9v6fnle cxmmr5t8 oygrvhab hcukyx3x c1et5uql ii04i59q\n",
    "kvgmc6g5 cxmmr5t8 oygrvhab hcukyx3x c1et5uql ii04i59q\n",
    "kvgmc6g5 cxmmr5t8 oygrvhab hcukyx3x c1et5uql ii04i59q\n",
    "kvgmc6g5 cxmmr5t8 oygrvhab hcukyx3x c1et5uql ii04i59q\n",
    "o9v6fnle cxmmr5t8 oygrvhab hcukyx3x c1et5uql ii04i59q\n",
    "b6zbclly myohyog2 l9j0dhe7 aenfhxwr l94mrbxd ihxqhq3m nc684nl6 t5a262vz sdhka5h4"
   ]
  }
 ],
 "metadata": {
  "kernelspec": {
   "display_name": "Python 3",
   "language": "python",
   "name": "python3"
  },
  "language_info": {
   "codemirror_mode": {
    "name": "ipython",
    "version": 3
   },
   "file_extension": ".py",
   "mimetype": "text/x-python",
   "name": "python",
   "nbconvert_exporter": "python",
   "pygments_lexer": "ipython3",
   "version": "3.6.7"
  }
 },
 "nbformat": 4,
 "nbformat_minor": 2
}
