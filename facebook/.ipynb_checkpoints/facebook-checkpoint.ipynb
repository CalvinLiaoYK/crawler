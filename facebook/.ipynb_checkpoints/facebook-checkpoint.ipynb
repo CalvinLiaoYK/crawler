{
 "cells": [
  {
   "cell_type": "markdown",
   "metadata": {},
   "source": [
    "# 待解問題\n",
    "- 時間\n",
    "- 內文格式不同的狀況"
   ]
  },
  {
   "cell_type": "code",
   "execution_count": 165,
   "metadata": {},
   "outputs": [],
   "source": [
    "import re\n",
    "import json\n",
    "import pandas as pd\n",
    "import time\n",
    "from collections import defaultdict\n",
    "from selenium import webdriver\n",
    "from selenium.webdriver.support.ui import Select\n",
    "from selenium.webdriver.support.ui import WebDriverWait\n",
    "from selenium.webdriver.support import expected_conditions as EC\n",
    "from bs4 import BeautifulSoup"
   ]
  },
  {
   "cell_type": "code",
   "execution_count": 170,
   "metadata": {},
   "outputs": [],
   "source": [
    "browser = webdriver.Chrome()\n",
    "browser.get('https://www.facebook.com/groups/1189431674567215/')\n",
    "html = browser.page_source"
   ]
  },
  {
   "cell_type": "code",
   "execution_count": 171,
   "metadata": {},
   "outputs": [],
   "source": [
    "# 滾動卷軸\n",
    "browser.execute_script(\"window.scrollTo(0, document.body.scrollHeight);\")"
   ]
  },
  {
   "cell_type": "code",
   "execution_count": 172,
   "metadata": {},
   "outputs": [],
   "source": [
    "# 點擊查看更多\n",
    "read_button = browser.find_elements_by_css_selector(\"div[class='oajrlxb2 g5ia77u1 qu0x051f esr5mh6w e9989ue4 r7d6kgcz rq0escxv nhd2j8a9 nc684nl6 p7hjln8o kvgmc6g5 cxmmr5t8 oygrvhab hcukyx3x jb3vyjys rz4wbd8a qt6c0cv9 a8nywdso i1ao9s8h esuyzwwr f1sip0of lzcic4wl oo9gr5id gpro0wi8 lrazzd5p'][role='button']\")\n",
    "for read in read_button:\n",
    "    time.sleep(1)\n",
    "    read.click()"
   ]
  },
  {
   "cell_type": "code",
   "execution_count": 173,
   "metadata": {},
   "outputs": [],
   "source": [
    "all_cont = browser.find_elements_by_css_selector(\"div[class='rq0escxv l9j0dhe7 du4w35lb']\")"
   ]
  },
  {
   "cell_type": "code",
   "execution_count": 174,
   "metadata": {},
   "outputs": [],
   "source": [
    "company = defaultdict(dict)\n",
    "\n",
    "for cont in all_cont:\n",
    "        sens = cont.text.split('\\n')\n",
    "        for index, info in enumerate(sens):\n",
    "            \n",
    "            if re.search(r'的真實價值', info):\n",
    "                sub_content = re.split(',|、|的真實價值',info)\n",
    "                for i, sub in enumerate(sub_content):\n",
    "                    #print(i, sub)\n",
    "                    code = re.search(r'\\d{4}', sub)                        \n",
    "                    if code:\n",
    "                        code = code.group()\n",
    "                        name = re.split(r'\\(|（', sub)[0].strip()\n",
    "                        name = re.sub(r'.\\n', '', name)\n",
    "                        company[name]['Code'] = code\n",
    "                        \n",
    "                        if 'timestamp' not in company[name].keys():\n",
    "                            ts = sens[index-2]\n",
    "                            company[name]['timestamp'] = ts\n",
    "\n",
    "            elif re.search(r'的 Ks =', info):\n",
    "                index = re.split('的 Ks =', info)\n",
    "                index_name = index[0].strip()\n",
    "                index_value = index[1].strip()\n",
    "                company[index_name]['Ks'] = index_value\n",
    "\n",
    "            elif re.search(r'的 P / E =', info):\n",
    "                index = re.split('的 P / E =', info)\n",
    "                index_name = index[0].strip()\n",
    "                index_value = index[1].split('=')[-1].strip()\n",
    "                company[index_name]['P / E'] = index_value\n",
    "\n",
    "            elif re.search(r'的 FRV =', info):\n",
    "                index = re.split('的 FRV =', info)\n",
    "                index_name = index[0].strip()\n",
    "                index_value = index[1].split('=')[-1].strip()\n",
    "                company[index_name]['FRV'] = index_value\n",
    "\n",
    "            elif re.search(r'的 泡沫程度 =', info):\n",
    "                index = re.split('的 泡沫程度 =', info)\n",
    "                index_name = index[0].strip()\n",
    "                index_value = index[1].split('=')[-1].strip()\n",
    "                company[index_name]['泡沫程度'] = index_value"
   ]
  },
  {
   "cell_type": "code",
   "execution_count": 175,
   "metadata": {},
   "outputs": [
    {
     "data": {
      "text/plain": [
       "defaultdict(dict,\n",
       "            {'霖宏': {'Code': '5464',\n",
       "              'timestamp': '6月24日上午1:28',\n",
       "              'Ks': '0.056',\n",
       "              'P / E': '17.86',\n",
       "              'FRV': '32.68',\n",
       "              '泡沫程度': '0.825'},\n",
       "             '美琪瑪': {'Code': '4721',\n",
       "              'timestamp': '18 小時',\n",
       "              'Ks': '0.046',\n",
       "              'P / E': '21.74',\n",
       "              'FRV': '66.09',\n",
       "              '泡沫程度': '1.099'},\n",
       "             '安勤': {'Code': '3479',\n",
       "              'timestamp': '18 小時',\n",
       "              'Ks': '0.053',\n",
       "              'P / E': '18.87',\n",
       "              'FRV': '51.70',\n",
       "              '泡沫程度': '1.035'},\n",
       "             '臻鼎': {'Code': '4958',\n",
       "              'timestamp': '19 小時',\n",
       "              'Ks': '0.065',\n",
       "              'P / E': '15.38',\n",
       "              'FRV': '140.88',\n",
       "              '泡沫程度': '0.749'},\n",
       "             '元翎': {'Code': '4564',\n",
       "              'timestamp': '19 小時',\n",
       "              'Ks': '0.059',\n",
       "              'P / E': '16.95',\n",
       "              'FRV': '48.48',\n",
       "              '泡沫程度': '0.969'},\n",
       "             '鼎元': {'Code': '2426',\n",
       "              'timestamp': '19 小時',\n",
       "              'Ks': '0.052',\n",
       "              'P / E': '19.23',\n",
       "              'FRV': '37.50',\n",
       "              '泡沫程度': '0.675'},\n",
       "             '錩新': {'Code': '2415',\n",
       "              'timestamp': '19 小時',\n",
       "              'Ks': '0.058',\n",
       "              'P / E': '17.24',\n",
       "              'FRV': '51.89',\n",
       "              '泡沫程度': '0.856'},\n",
       "             '皇田': {'Code': '9951',\n",
       "              'timestamp': '19 小時',\n",
       "              'Ks': '0.057',\n",
       "              'P / E': '17.54',\n",
       "              'FRV': '129.09',\n",
       "              '泡沫程度': '0.729'},\n",
       "             '崇越電': {'Code': '3388',\n",
       "              'timestamp': '19 小時',\n",
       "              'Ks': '0.059',\n",
       "              'P / E': '16.95',\n",
       "              'FRV': '117.63',\n",
       "              '泡沫程度': '0.653'},\n",
       "             '大江': {'Code': '8436',\n",
       "              'timestamp': '19 小時',\n",
       "              'Ks': '0.053',\n",
       "              'P / E': '18.87',\n",
       "              'FRV': '294.75',\n",
       "              '泡沫程度': '0.899'},\n",
       "             '億豐': {'Code': '8464',\n",
       "              'timestamp': '20 小時',\n",
       "              'Ks': '0.046',\n",
       "              'P / E': '21.74',\n",
       "              'FRV': '431.32…… 查看更多'},\n",
       "             '大成鋼': {'Code': '2027',\n",
       "              'timestamp': '20 小時',\n",
       "              'Ks': '0.094',\n",
       "              'P / E': '10.64',\n",
       "              'FRV': '55.86…… 查看更多'},\n",
       "             '台驊': {'Code': '2636',\n",
       "              'timestamp': '20 小時',\n",
       "              'Ks': '0.048',\n",
       "              'P / E': '20.83',\n",
       "              'FRV': '325.78…… 查看更多'},\n",
       "             '技嘉': {'Code': '2376',\n",
       "              'timestamp': '20 小時',\n",
       "              'Ks': '0.050',\n",
       "              'P / E': '20.00',\n",
       "              'FRV': '279.80…… 查看更多'},\n",
       "             '達亞': {'Code': '6762',\n",
       "              'timestamp': '20 小時',\n",
       "              'Ks': '0.050…… 查看更多'},\n",
       "             '杏一': {'Code': '4175', 'timestamp': '20 小時'}})"
      ]
     },
     "execution_count": 175,
     "metadata": {},
     "output_type": "execute_result"
    }
   ],
   "source": [
    "company"
   ]
  },
  {
   "cell_type": "code",
   "execution_count": 105,
   "metadata": {},
   "outputs": [
    {
     "name": "stdout",
     "output_type": "stream",
     "text": [
      "霖宏    (  5464  )    的真實價值    : 2020年12月19日\n",
      "美琪瑪    (  4721  )   的真實價值    : 6月24日上午1:28\n",
      "安勤   (  3479  )   的真實價值    : 2 小時\n",
      "臻鼎    (  4958  )   的真實價值    : 12 小時\n",
      "元翎    (  4564  )    的真實價值    : 16 小時\n",
      "鼎元    (  2426  )    的真實價值    : 16 小時\n"
     ]
    }
   ],
   "source": [
    "# test\n",
    "for t, ts in zip(titles, timestamp):\n",
    "    if t.text is not '' and ts.text is not '':\n",
    "        content = t.text\n",
    "        time = ts.text\n",
    "        print(content, time)"
   ]
  },
  {
   "cell_type": "code",
   "execution_count": 115,
   "metadata": {},
   "outputs": [
    {
     "name": "stdout",
     "output_type": "stream",
     "text": [
      "霖宏    (  5464  )    的真實價值    :\n",
      "美琪瑪    (  4721  )   的真實價值    :\n",
      "安勤   (  3479  )   的真實價值    :\n",
      "臻鼎    (  4958  )   的真實價值    :\n",
      "元翎    (  4564  )    的真實價值    :\n",
      "鼎元    (  2426  )    的真實價值    :\n",
      "錩新    (  2415  )    的真實價值    :\n",
      "皇田    (  9951  )    的真實價值    :\n",
      "崇越電    (  3388  )   的真實價值    :\n",
      "大江    (  8436  )    的真實價值    :\n"
     ]
    }
   ],
   "source": [
    "for t in titles:\n",
    "    if t.text is not '':\n",
    "        print(t.text)"
   ]
  },
  {
   "cell_type": "code",
   "execution_count": 107,
   "metadata": {},
   "outputs": [
    {
     "name": "stdout",
     "output_type": "stream",
     "text": [
      "2020年12月19日\n",
      "6月24日上午1:28\n",
      "2 小時\n",
      "12 小時\n",
      "16 小時\n",
      "16 小時\n",
      "17 小時\n",
      "17 小時\n",
      "17 小時\n"
     ]
    }
   ],
   "source": [
    "for t in timestamp:\n",
    "    if t.text :\n",
    "        print(t.text)"
   ]
  }
 ],
 "metadata": {
  "kernelspec": {
   "display_name": "Python 3",
   "language": "python",
   "name": "python3"
  },
  "language_info": {
   "codemirror_mode": {
    "name": "ipython",
    "version": 3
   },
   "file_extension": ".py",
   "mimetype": "text/x-python",
   "name": "python",
   "nbconvert_exporter": "python",
   "pygments_lexer": "ipython3",
   "version": "3.6.7"
  }
 },
 "nbformat": 4,
 "nbformat_minor": 2
}
