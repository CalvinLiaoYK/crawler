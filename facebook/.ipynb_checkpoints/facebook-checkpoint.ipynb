{
 "cells": [
  {
   "cell_type": "code",
   "execution_count": 1,
   "metadata": {},
   "outputs": [],
   "source": [
    "import json\n",
    "import pandas as pd\n",
    "from collections import defaultdict\n",
    "from selenium import webdriver\n",
    "from selenium.webdriver.support.ui import Select\n",
    "from bs4 import BeautifulSoup"
   ]
  },
  {
   "cell_type": "code",
   "execution_count": 10,
   "metadata": {},
   "outputs": [],
   "source": [
    "browser = webdriver.Chrome()\n",
    "browser.get('https://www.facebook.com/')"
   ]
  },
  {
   "cell_type": "code",
   "execution_count": 11,
   "metadata": {},
   "outputs": [],
   "source": [
    "username = browser.find_element_by_name('email')\n",
    "password = browser.find_element_by_name('pass')\n",
    "username.send_keys('kobe821125@gmail.com')\n",
    "password.send_keys('calvin19931125')"
   ]
  },
  {
   "cell_type": "code",
   "execution_count": 12,
   "metadata": {},
   "outputs": [],
   "source": [
    "log_in_button = browser.find_element_by_name('login')\n",
    "log_in_button.click()"
   ]
  },
  {
   "cell_type": "code",
   "execution_count": 13,
   "metadata": {},
   "outputs": [],
   "source": [
    "browser = webdriver.Chrome()\n",
    "browser.get('https://www.facebook.com/groups/1189431674567215/')\n",
    "html = browser.page_source"
   ]
  },
  {
   "cell_type": "code",
   "execution_count": 41,
   "metadata": {},
   "outputs": [],
   "source": [
    "txt = browser.find_elements_by_css_selector(\".kvgmc6g5.cxmmr5t8.oygrvhab.hcukyx3x.c1et5uql.ii04i59q\")"
   ]
  },
  {
   "cell_type": "code",
   "execution_count": 42,
   "metadata": {},
   "outputs": [
    {
     "name": "stdout",
     "output_type": "stream",
     "text": [
      "台股  台灣 100  個股真實價值 ( 04 / 16 )\n",
      "台股  台灣 100  周收盤價合理性分析 ( 04 / 16 )\n",
      "台股  台灣 50  個股真實價值 ( 04 / 16 )\n",
      "台股  台灣 50  周收盤價合理性分析 ( 04 / 16 )\n",
      "A  股市場多空傾向 ( 04 / 16 )\n",
      "MSCI ( TW ) 個股真實價值 ( 04 / 16 )\n",
      "( 04 /16 ) 台股多頭成交量比指標 ( 長期 )\n",
      "( 04 /16 ) 台股多頭成交量比指標 ( 短期 )\n",
      "MSCI ( TW ) 周收盤價合理性分析 ( 04 / 16 )\n",
      "MSCI ( TW ) 市場多空傾向 ( 04 / 16 )\n",
      "台股市場多空傾向 ( 04 / 16 )\n",
      "健和興     (  3003  )     的真實價值    :\n",
      "台聚    (  1304  )、亞聚    (  1308  ) 、華夏    (  1305  )    的真實價值\n",
      ".\n",
      "台聚    (  1304  )    的真實價值    :\n",
      "台耀    (  4746  )    的真實價值    :\n",
      "南僑     (  1702  )    的真實價值    :\n",
      "天正國際    (  6654  )    的真實價值    :\n",
      "宇瞻     (  8271  )     的真實價值    :\n",
      "天鈺     (  4961  )    的真實價值    :\n",
      "博大     (  8109  )    的真實價值    :\n"
     ]
    }
   ],
   "source": [
    "for i in txt:\n",
    "    if i.text is not '':\n",
    "        print(i.text)"
   ]
  },
  {
   "cell_type": "code",
   "execution_count": 40,
   "metadata": {},
   "outputs": [
    {
     "name": "stdout",
     "output_type": "stream",
     "text": [
      "健和興     的 Ks = 0.048\n",
      "健和興     的 P / E = 1 / 0.048 = 20.83\n",
      "健和興     的 FRV = EPS x P/E =  4.43 x 20.83 = 92.28…… 查看更多\n",
      "台聚       的 Ks = 0.084…… 查看更多\n",
      "台耀       的 Ks = 0.076\n",
      "台耀       的 P / E = 1 / 0.076 = 13.16\n",
      "台耀       的 FRV = EPS x P/E = 4.62 x 13.16 = 60.80…… 查看更多\n",
      "南僑      的 Ks =  0.066\n",
      "南僑      的 P / E = 1 / 0.066 = 15.15\n",
      "南僑      的 FRV = EPS x P/E = 4.26 x 15.15 = 64.54…… 查看更多\n",
      "天正     的 Ks = 0.046\n",
      "天正     的 P / E = 1 / 0.046 = 21.74\n",
      "天正     的 FRV = EPS x P/E = 3.58 x 21.74 = 77.83…… 查看更多\n",
      "宇瞻      的 Ks =  0.054\n",
      "宇瞻      的 P / E = 1 / 0.054 = 18.52\n",
      "宇瞻      的 FRV = EPS x P/E = 4.00 x 18.52 = 74.08…… 查看更多\n",
      "天鈺     的 Ks = 0.048\n",
      "天鈺     的 P / E = 1 / 0.048 = 20.83\n",
      "天鈺     的 FRV = EPS x P/E = 11.87 x 20.83 = 247.25…… 查看更多\n",
      "博大      的 Ks =  0.052\n",
      "博大      的 P / E = 1 / 0.052 = 19.23\n",
      "博大      的 FRV = EPS x P/E = 5.69 x 19.23 = 109.42…… 查看更多\n"
     ]
    }
   ],
   "source": [
    "txt = browser.find_elements_by_css_selector(\".o9v6fnle.cxmmr5t8.oygrvhab.hcukyx3x.c1et5uql.ii04i59q\")\n",
    "for i in txt:\n",
    "    if i.text is not '':\n",
    "        print(i.text)"
   ]
  },
  {
   "cell_type": "code",
   "execution_count": 37,
   "metadata": {},
   "outputs": [
    {
     "name": "stdout",
     "output_type": "stream",
     "text": [
      "2020年12月19日\n",
      "2020年12月19日\n",
      "8 小時\n",
      "8 小時\n",
      "8 小時\n",
      "8 小時\n",
      "8 小時\n",
      "8 小時\n",
      "8 小時\n",
      "8 小時\n",
      "8 小時\n",
      "8 小時\n",
      "8 小時\n",
      "8 小時\n",
      "8 小時\n",
      "8 小時\n"
     ]
    }
   ],
   "source": [
    "time = browser.find_elements_by_css_selector(\".b6zbclly.myohyog2.l9j0dhe7.aenfhxwr.l94mrbxd.ihxqhq3m.nc684nl6.t5a262vz.sdhka5h4\")\n",
    "for i in time:\n",
    "    if i.text is not '':\n",
    "        print(i.text)"
   ]
  },
  {
   "cell_type": "code",
   "execution_count": null,
   "metadata": {},
   "outputs": [],
   "source": [
    "o9v6fnle cxmmr5t8 oygrvhab hcukyx3x c1et5uql ii04i59q\n",
    "o9v6fnle cxmmr5t8 oygrvhab hcukyx3x c1et5uql ii04i59q\n",
    "kvgmc6g5 cxmmr5t8 oygrvhab hcukyx3x c1et5uql ii04i59q\n",
    "kvgmc6g5 cxmmr5t8 oygrvhab hcukyx3x c1et5uql ii04i59q\n",
    "kvgmc6g5 cxmmr5t8 oygrvhab hcukyx3x c1et5uql ii04i59q\n",
    "o9v6fnle cxmmr5t8 oygrvhab hcukyx3x c1et5uql ii04i59q\n",
    "b6zbclly myohyog2 l9j0dhe7 aenfhxwr l94mrbxd ihxqhq3m nc684nl6 t5a262vz sdhka5h4"
   ]
  }
 ],
 "metadata": {
  "kernelspec": {
   "display_name": "Python 3",
   "language": "python",
   "name": "python3"
  },
  "language_info": {
   "codemirror_mode": {
    "name": "ipython",
    "version": 3
   },
   "file_extension": ".py",
   "mimetype": "text/x-python",
   "name": "python",
   "nbconvert_exporter": "python",
   "pygments_lexer": "ipython3",
   "version": "3.7.8"
  }
 },
 "nbformat": 4,
 "nbformat_minor": 2
}
