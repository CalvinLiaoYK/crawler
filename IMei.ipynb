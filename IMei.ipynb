{
 "cells": [
  {
   "cell_type": "code",
   "execution_count": 540,
   "metadata": {},
   "outputs": [],
   "source": [
    "# coding:utf-8\n",
    "import requests\n",
    "import time\n",
    "\n",
    "from bs4 import BeautifulSoup as bs\n",
    "from urllib.parse import urlencode"
   ]
  },
  {
   "cell_type": "code",
   "execution_count": 541,
   "metadata": {},
   "outputs": [],
   "source": [
    "# coding:utf-8\n",
    "\n",
    "url = 'http://www.imeifoods.com.tw/retail/'\n",
    "r = requests.get(url)\n",
    "r.encoding = 'utf-8'\n",
    "soup = bs(r.text, 'html.parser')"
   ]
  },
  {
   "cell_type": "code",
   "execution_count": 542,
   "metadata": {},
   "outputs": [],
   "source": [
    "store_nm = []\n",
    "for tag in soup.find_all('td',class_='atable02', width='17%'):\n",
    "    if tag.string:\n",
    "        store_nm.append(str(tag.string))"
   ]
  },
  {
   "cell_type": "code",
   "execution_count": 550,
   "metadata": {},
   "outputs": [
    {
     "data": {
      "text/plain": [
       "112"
      ]
     },
     "execution_count": 550,
     "metadata": {},
     "output_type": "execute_result"
    }
   ],
   "source": [
    "len(store_nm)"
   ]
  },
  {
   "cell_type": "code",
   "execution_count": 413,
   "metadata": {},
   "outputs": [],
   "source": [
    "number = []\n",
    "for tag in soup.find_all('td',class_='atable01', width='13%'):\n",
    "    #num = re.match('[(]\\d{2}[)] \\d{3,4}[-]\\d{4}', str(tag.string))\n",
    "    num = re.match('[()]', str(tag.string))\n",
    "    if num:\n",
    "        number.append(str(tag.string))"
   ]
  },
  {
   "cell_type": "code",
   "execution_count": 414,
   "metadata": {},
   "outputs": [
    {
     "data": {
      "text/plain": [
       "112"
      ]
     },
     "execution_count": 414,
     "metadata": {},
     "output_type": "execute_result"
    }
   ],
   "source": [
    "len(number)"
   ]
  },
  {
   "cell_type": "code",
   "execution_count": 537,
   "metadata": {},
   "outputs": [],
   "source": [
    "number = []\n",
    "add = []\n",
    "for tag in soup.find_all('td',class_='atable01'):    \n",
    "    sen = tag.text\n",
    "    if sen:        \n",
    "        if re.match('[()]', sen):\n",
    "            number.append(sen)\n",
    "        \n",
    "        elif not sen.startswith(\"\\u3000\") and not sen.startswith(\"\\xa0\") :\n",
    "            add.append(sen)          \n"
   ]
  },
  {
   "cell_type": "code",
   "execution_count": 539,
   "metadata": {},
   "outputs": [
    {
     "data": {
      "text/plain": [
       "112"
      ]
     },
     "execution_count": 539,
     "metadata": {},
     "output_type": "execute_result"
    }
   ],
   "source": [
    "len(add)"
   ]
  },
  {
   "cell_type": "code",
   "execution_count": 560,
   "metadata": {},
   "outputs": [],
   "source": [
    "IMei_list = []\n",
    "\n",
    "for _, store in enumerate(store_nm):\n",
    "    s_dict = dict()\n",
    "    s_dict['brand_nm'] = 'IMei'\n",
    "    s_dict['store_nm'] = store\n",
    "    s_dict['full_nm'] = 'IMei ' + store\n",
    "    s_dict['addr'] = add[_]\n",
    "    s_dict['tel'] = number[_]\n",
    "    IMei_list.append(s_dict)"
   ]
  },
  {
   "cell_type": "code",
   "execution_count": 565,
   "metadata": {},
   "outputs": [
    {
     "data": {
      "text/plain": [
       "{'brand_nm': 'IMei',\n",
       " 'store_nm': '宜蘭門市',\n",
       " 'full_nm': 'IMei 宜蘭門市',\n",
       " 'addr': '宜蘭市中山路三段81號1樓 ',\n",
       " 'tel': '(03) 935-6661'}"
      ]
     },
     "execution_count": 565,
     "metadata": {},
     "output_type": "execute_result"
    }
   ],
   "source": [
    "IMei_list[-4]"
   ]
  },
  {
   "cell_type": "code",
   "execution_count": null,
   "metadata": {},
   "outputs": [],
   "source": []
  }
 ],
 "metadata": {
  "kernelspec": {
   "display_name": "Python 3",
   "language": "python",
   "name": "python3"
  },
  "language_info": {
   "codemirror_mode": {
    "name": "ipython",
    "version": 3
   },
   "file_extension": ".py",
   "mimetype": "text/x-python",
   "name": "python",
   "nbconvert_exporter": "python",
   "pygments_lexer": "ipython3",
   "version": "3.6.8"
  }
 },
 "nbformat": 4,
 "nbformat_minor": 2
}
